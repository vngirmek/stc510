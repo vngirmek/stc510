{
  "nbformat": 4,
  "nbformat_minor": 0,
  "metadata": {
    "colab": {
      "provenance": [],
      "authorship_tag": "ABX9TyMX0/kZ0ibqe0zoUh0dCfVG",
      "include_colab_link": true
    },
    "kernelspec": {
      "name": "python3",
      "display_name": "Python 3"
    },
    "language_info": {
      "name": "python"
    }
  },
  "cells": [
    {
      "cell_type": "markdown",
      "metadata": {
        "id": "view-in-github",
        "colab_type": "text"
      },
      "source": [
        "<a href=\"https://colab.research.google.com/github/vngirmek/stc510/blob/main/Mod1_Project_Essential.ipynb\" target=\"_parent\"><img src=\"https://colab.research.google.com/assets/colab-badge.svg\" alt=\"Open In Colab\"/></a>"
      ]
    },
    {
      "cell_type": "markdown",
      "source": [
        "Module 1 Project Essential-  Open Weather Map API"
      ],
      "metadata": {
        "id": "e_ZjCoYsdRrl"
      }
    },
    {
      "cell_type": "code",
      "execution_count": 13,
      "metadata": {
        "colab": {
          "base_uri": "https://localhost:8080/"
        },
        "id": "rLIEzE4JFKlb",
        "outputId": "28a9b9b6-e04b-4536-e09d-5f448c54e330"
      },
      "outputs": [
        {
          "output_type": "stream",
          "name": "stdout",
          "text": [
            "Requirement already satisfied: pyowm in /usr/local/lib/python3.10/dist-packages (3.3.0)\n",
            "Requirement already satisfied: requests<3,>=2.20.0 in /usr/local/lib/python3.10/dist-packages (from pyowm) (2.31.0)\n",
            "Requirement already satisfied: geojson<3,>=2.3.0 in /usr/local/lib/python3.10/dist-packages (from pyowm) (2.5.0)\n",
            "Requirement already satisfied: PySocks<2,>=1.7.1 in /usr/local/lib/python3.10/dist-packages (from pyowm) (1.7.1)\n",
            "Requirement already satisfied: charset-normalizer<4,>=2 in /usr/local/lib/python3.10/dist-packages (from requests<3,>=2.20.0->pyowm) (3.3.2)\n",
            "Requirement already satisfied: idna<4,>=2.5 in /usr/local/lib/python3.10/dist-packages (from requests<3,>=2.20.0->pyowm) (3.6)\n",
            "Requirement already satisfied: urllib3<3,>=1.21.1 in /usr/local/lib/python3.10/dist-packages (from requests<3,>=2.20.0->pyowm) (2.0.7)\n",
            "Requirement already satisfied: certifi>=2017.4.17 in /usr/local/lib/python3.10/dist-packages (from requests<3,>=2.20.0->pyowm) (2024.2.2)\n"
          ]
        }
      ],
      "source": [
        "!pip install pyowm\n",
        "import pyowm\n",
        "from pyowm import OWM\n",
        "from pyowm.utils import config\n",
        "from pyowm.utils import timestamps\n",
        "from datetime import datetime\n",
        "import csv"
      ]
    },
    {
      "cell_type": "code",
      "source": [
        "# OpenWeatherMap API with my API key\n",
        "owm = pyowm.OWM('1217efe9f6c6016b85c1dc792e66992e')\n"
      ],
      "metadata": {
        "id": "UwAqxy56FU1b"
      },
      "execution_count": 47,
      "outputs": []
    },
    {
      "cell_type": "code",
      "source": [
        "# Search for the current weather in New York city\n",
        "observation = owm.weather_manager().weather_at_place(\"New York,US\")\n",
        "w = observation.weather"
      ],
      "metadata": {
        "id": "h6Rvuz8TFZar"
      },
      "execution_count": 48,
      "outputs": []
    },
    {
      "cell_type": "code",
      "source": [
        "# Get the weather data\n",
        "temp_kelvin = w.temperature('kelvin')['temp']\n",
        "temp_celsius = temp_kelvin - 273.15\n",
        "weather_status = w.status\n",
        "timestamp = datetime.now()\n",
        "\n"
      ],
      "metadata": {
        "id": "bLO5bS9IFdk0"
      },
      "execution_count": 61,
      "outputs": []
    },
    {
      "cell_type": "code",
      "source": [
        "observation"
      ],
      "metadata": {
        "colab": {
          "base_uri": "https://localhost:8080/"
        },
        "id": "Gc9WcE40YxxB",
        "outputId": "81d8d41d-f7da-42c1-b030-66420e0a8b2d"
      },
      "execution_count": 49,
      "outputs": [
        {
          "output_type": "execute_result",
          "data": {
            "text/plain": [
              "<pyowm.weatherapi25.observation.Observation - reception_time=2024-02-29 06:17:49+00:00>"
            ]
          },
          "metadata": {},
          "execution_count": 49
        }
      ]
    },
    {
      "cell_type": "code",
      "source": [
        "w"
      ],
      "metadata": {
        "colab": {
          "base_uri": "https://localhost:8080/"
        },
        "id": "lnDzW127ZC1c",
        "outputId": "fa1bc7ad-22b5-4c58-b1ff-e110d4db91a0"
      },
      "execution_count": 50,
      "outputs": [
        {
          "output_type": "execute_result",
          "data": {
            "text/plain": [
              "<pyowm.weatherapi25.weather.Weather - reference_time=2024-02-29 06:15:08+00:00, status=clouds, detailed_status=few clouds>"
            ]
          },
          "metadata": {},
          "execution_count": 50
        }
      ]
    },
    {
      "cell_type": "code",
      "source": [
        "temp_kelvin"
      ],
      "metadata": {
        "colab": {
          "base_uri": "https://localhost:8080/"
        },
        "id": "MH3QQeaUZLEy",
        "outputId": "953d0aea-4bb6-46bc-ce72-1a29e12a508a"
      },
      "execution_count": 51,
      "outputs": [
        {
          "output_type": "execute_result",
          "data": {
            "text/plain": [
              "277.1"
            ]
          },
          "metadata": {},
          "execution_count": 51
        }
      ]
    },
    {
      "cell_type": "code",
      "source": [
        "temp_celsius"
      ],
      "metadata": {
        "colab": {
          "base_uri": "https://localhost:8080/"
        },
        "id": "GoD91nwkZaBC",
        "outputId": "b6b83513-1f74-4aee-b9a6-f62b57b87551"
      },
      "execution_count": 52,
      "outputs": [
        {
          "output_type": "execute_result",
          "data": {
            "text/plain": [
              "3.9500000000000455"
            ]
          },
          "metadata": {},
          "execution_count": 52
        }
      ]
    },
    {
      "cell_type": "code",
      "source": [
        "weather_status"
      ],
      "metadata": {
        "colab": {
          "base_uri": "https://localhost:8080/",
          "height": 36
        },
        "id": "4RLZCWsoZeqs",
        "outputId": "52fbb5d3-14b5-4a27-906d-55e532cec7a1"
      },
      "execution_count": 54,
      "outputs": [
        {
          "output_type": "execute_result",
          "data": {
            "text/plain": [
              "'Clouds'"
            ],
            "application/vnd.google.colaboratory.intrinsic+json": {
              "type": "string"
            }
          },
          "metadata": {},
          "execution_count": 54
        }
      ]
    },
    {
      "cell_type": "code",
      "source": [
        "timestamp"
      ],
      "metadata": {
        "colab": {
          "base_uri": "https://localhost:8080/"
        },
        "id": "kHBsa72EZjDd",
        "outputId": "412bb37d-006f-4195-e498-5f02472317fe"
      },
      "execution_count": 55,
      "outputs": [
        {
          "output_type": "execute_result",
          "data": {
            "text/plain": [
              "datetime.datetime(2024, 2, 29, 6, 17, 37, 543385)"
            ]
          },
          "metadata": {},
          "execution_count": 55
        }
      ]
    },
    {
      "cell_type": "code",
      "source": [
        "# writes data to CSV file\n",
        "with open('weather_data.csv', 'a', newline='') as csvfile:\n",
        "    fieldnames = ['Timestamp', 'Temperature (Celsius)', 'Weather Status']\n",
        "    writer = csv.DictWriter(csvfile, fieldnames=fieldnames)\n",
        "\n",
        "    # if file is empty write header\n",
        "    if csvfile.tell() == 0:\n",
        "        writer.writeheader()\n",
        "\n",
        "    # weather data to CSV\n",
        "    writer.writerow({'Timestamp': timestamp,\n",
        "                     'Temperature (Celsius)': temp_celsius,\n",
        "                     'Weather Status': weather_status})\n",
        "\n",
        "print(\"Weather data is on 'weather_data.csv'.\")\n"
      ],
      "metadata": {
        "colab": {
          "base_uri": "https://localhost:8080/"
        },
        "id": "V1_50wo_YhHs",
        "outputId": "c644d288-e546-44ac-a83e-1bd622395121"
      },
      "execution_count": 62,
      "outputs": [
        {
          "output_type": "stream",
          "name": "stdout",
          "text": [
            "Weather data is on 'weather_data.csv'.\n"
          ]
        }
      ]
    }
  ]
}