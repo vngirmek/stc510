{
 "cells": [
  {
   "cell_type": "code",
   "execution_count": 3,
   "id": "98252d73-bc47-4af2-b11b-fa8f961a5b37",
   "metadata": {},
   "outputs": [],
   "source": [
    "import json\n",
    "from nltk import word_tokenize\n",
    "from nltk.corpus import stopwords\n",
    "from nltk.stem import WordNetLemmatizer\n",
    "from sklearn.feature_extraction.text import TfidfVectorizer\n",
    "from sklearn.model_selection import train_test_split\n",
    "from sklearn.model_selection import cross_val_score\n",
    "from sklearn.svm import SVC  # SVM classifier \n",
    "from sklearn.metrics import accuracy_score\n",
    "import pandas as pd\n",
    "import re\n",
    "import tensorflow as tf\n",
    "from tensorflow.keras.models import Sequential\n",
    "from tensorflow.keras.layers import Dense, Dropout\n",
    "from tensorflow.keras.optimizers import Adam\n",
    "\n",
    "\n",
    "english_stopwords = set(stopwords.words('english'))"
   ]
  },
  {
   "cell_type": "code",
   "execution_count": 6,
   "id": "d2d9a0b6-aade-4582-864a-4efb0e4dd113",
   "metadata": {},
   "outputs": [],
   "source": [
    "def clean_text(text):\n",
    "    # Removes special characters and also convert to lowercase\n",
    "    text = re.sub(r'[^\\w\\s]', '', text.lower())\n",
    "    # Tokenize text\n",
    "    tokens = word_tokenize(text)\n",
    "    # Remove stopwords and lemmatize tokens\n",
    "    lemmatizer = WordNetLemmatizer()\n",
    "    clean_tokens = [lemmatizer.lemmatize(token) for token in tokens if token not in english_stopwords]\n",
    "    # Join the tokens back together\n",
    "    clean_text = ' '.join(clean_tokens)\n",
    "    return clean_text"
   ]
  },
  {
   "cell_type": "code",
   "execution_count": 8,
   "id": "b5023a3c-bf8b-46eb-acc7-9a30fca8b9cf",
   "metadata": {},
   "outputs": [],
   "source": [
    "with open('jeopardy.json') as f:\n",
    "    data = json.load(f)\n",
    "\n",
    "\n",
    "questions = []\n",
    "values = []\n",
    "for item in data:\n",
    "    question = item['question']\n",
    "    value = item.get('value', '$0')  # use default value \"$0\" if 'value' key does not exist\n",
    "    if value is not None:\n",
    "        # converts value to integer ;remove '$' sign\n",
    "        value = int(value[1:].replace(',', '')) if value[1:].replace(',', '').isdigit() else 0\n",
    "    else:\n",
    "        value = 0\n",
    "    # Clean the text\n",
    "    clean_question = clean_text(question)\n",
    "    questions.append(clean_question)\n",
    "    # Classify questions as 'high value' or 'low value' \n",
    "    values.append('high value' if value >= 800 else 'low value')\n"
   ]
  },
  {
   "cell_type": "code",
   "execution_count": 9,
   "id": "caa152ae-3b2b-4120-8836-3ab113b4a59f",
   "metadata": {},
   "outputs": [],
   "source": [
    "# Creates a DataFrame from the cleaned data\n",
    "df = pd.DataFrame({'question': questions, 'value': values})"
   ]
  },
  {
   "cell_type": "code",
   "execution_count": 10,
   "id": "de32c4a9-eeb7-4e14-a646-01a463266699",
   "metadata": {},
   "outputs": [
    {
     "data": {
      "text/html": [
       "<div>\n",
       "<style scoped>\n",
       "    .dataframe tbody tr th:only-of-type {\n",
       "        vertical-align: middle;\n",
       "    }\n",
       "\n",
       "    .dataframe tbody tr th {\n",
       "        vertical-align: top;\n",
       "    }\n",
       "\n",
       "    .dataframe thead th {\n",
       "        text-align: right;\n",
       "    }\n",
       "</style>\n",
       "<table border=\"1\" class=\"dataframe\">\n",
       "  <thead>\n",
       "    <tr style=\"text-align: right;\">\n",
       "      <th></th>\n",
       "      <th>question</th>\n",
       "      <th>value</th>\n",
       "    </tr>\n",
       "  </thead>\n",
       "  <tbody>\n",
       "    <tr>\n",
       "      <th>0</th>\n",
       "      <td>last 8 year life galileo house arrest espousin...</td>\n",
       "      <td>low value</td>\n",
       "    </tr>\n",
       "    <tr>\n",
       "      <th>1</th>\n",
       "      <td>2 1912 olympian football star carlisle indian ...</td>\n",
       "      <td>low value</td>\n",
       "    </tr>\n",
       "    <tr>\n",
       "      <th>2</th>\n",
       "      <td>city yuma state record average 4055 hour sunsh...</td>\n",
       "      <td>low value</td>\n",
       "    </tr>\n",
       "    <tr>\n",
       "      <th>3</th>\n",
       "      <td>1963 live art linkletter show company served b...</td>\n",
       "      <td>low value</td>\n",
       "    </tr>\n",
       "    <tr>\n",
       "      <th>4</th>\n",
       "      <td>signer dec indep framer constitution mass seco...</td>\n",
       "      <td>low value</td>\n",
       "    </tr>\n",
       "    <tr>\n",
       "      <th>...</th>\n",
       "      <td>...</td>\n",
       "      <td>...</td>\n",
       "    </tr>\n",
       "    <tr>\n",
       "      <th>216925</th>\n",
       "      <td>puccini opera turn solution 3 riddle posed her...</td>\n",
       "      <td>high value</td>\n",
       "    </tr>\n",
       "    <tr>\n",
       "      <th>216926</th>\n",
       "      <td>north america term properly applied 4 specie c...</td>\n",
       "      <td>high value</td>\n",
       "    </tr>\n",
       "    <tr>\n",
       "      <th>216927</th>\n",
       "      <td>penny lane hellraiser grew barber shave anothe...</td>\n",
       "      <td>high value</td>\n",
       "    </tr>\n",
       "    <tr>\n",
       "      <th>216928</th>\n",
       "      <td>ft sill okla made plea arizona land home fathe...</td>\n",
       "      <td>high value</td>\n",
       "    </tr>\n",
       "    <tr>\n",
       "      <th>216929</th>\n",
       "      <td>silent movie title includes last name 18th c s...</td>\n",
       "      <td>low value</td>\n",
       "    </tr>\n",
       "  </tbody>\n",
       "</table>\n",
       "<p>216930 rows × 2 columns</p>\n",
       "</div>"
      ],
      "text/plain": [
       "                                                 question       value\n",
       "0       last 8 year life galileo house arrest espousin...   low value\n",
       "1       2 1912 olympian football star carlisle indian ...   low value\n",
       "2       city yuma state record average 4055 hour sunsh...   low value\n",
       "3       1963 live art linkletter show company served b...   low value\n",
       "4       signer dec indep framer constitution mass seco...   low value\n",
       "...                                                   ...         ...\n",
       "216925  puccini opera turn solution 3 riddle posed her...  high value\n",
       "216926  north america term properly applied 4 specie c...  high value\n",
       "216927  penny lane hellraiser grew barber shave anothe...  high value\n",
       "216928  ft sill okla made plea arizona land home fathe...  high value\n",
       "216929  silent movie title includes last name 18th c s...   low value\n",
       "\n",
       "[216930 rows x 2 columns]"
      ]
     },
     "execution_count": 10,
     "metadata": {},
     "output_type": "execute_result"
    }
   ],
   "source": [
    "df"
   ]
  },
  {
   "cell_type": "code",
   "execution_count": 15,
   "id": "add80c0d-7e06-42a4-b4ec-baa6efdaece3",
   "metadata": {},
   "outputs": [],
   "source": [
    "# Split the data \n",
    "X_train, X_test, y_train, y_test = train_test_split(df.question, df.value, random_state=1)"
   ]
  },
  {
   "cell_type": "code",
   "execution_count": 16,
   "id": "08c37104-6f85-4120-b469-68e0ac6f232e",
   "metadata": {},
   "outputs": [
    {
     "data": {
      "text/plain": [
       "(80347              cereal heiress marjorie post middle name\n",
       " 211766    nicholas meyers west end horror take victorian...\n",
       " 154215       wrote night ride mansion glory suicide machine\n",
       " 162472    january 20 1981 u released 8 billion country a...\n",
       " 7460      nice see musical looking swell still goin stro...\n",
       "                                 ...                        \n",
       " 109259                           someone church work abroad\n",
       " 50057     one gabriel garcia marquez bestknown work one ...\n",
       " 5192      neapolitan tenor made last public appearance c...\n",
       " 208780      signed february 2 1848 treaty ended mexican war\n",
       " 128037    end marriage 1877 russian composer tried catch...\n",
       " Name: question, Length: 162697, dtype: object,\n",
       " 180575      type yoga sanskrit discipline force better none\n",
       " 85360     4 treaty mitigate horror war signed city augus...\n",
       " 133653    dec 13 1937 japan took city nanking asian coun...\n",
       " 4637      island fay wray first encountered king kong th...\n",
       " 23868     metropolitan museum art paid record 143352 old...\n",
       "                                 ...                        \n",
       " 192345    chapter bankruptcy code allows company keep as...\n",
       " 44587     korean conductor myungwhun chung named music d...\n",
       " 23307                 3 main section duodenum jejunum ileum\n",
       " 194290    heavenly fish often seen around coral reef clo...\n",
       " 110226    michael j fox voiced smart little mouse china ...\n",
       " Name: question, Length: 54233, dtype: object,\n",
       " 80347      low value\n",
       " 211766    high value\n",
       " 154215     low value\n",
       " 162472     low value\n",
       " 7460      high value\n",
       "              ...    \n",
       " 109259     low value\n",
       " 50057      low value\n",
       " 5192       low value\n",
       " 208780     low value\n",
       " 128037    high value\n",
       " Name: value, Length: 162697, dtype: object,\n",
       " 180575    high value\n",
       " 85360      low value\n",
       " 133653     low value\n",
       " 4637       low value\n",
       " 23868      low value\n",
       "              ...    \n",
       " 192345     low value\n",
       " 44587      low value\n",
       " 23307     high value\n",
       " 194290     low value\n",
       " 110226     low value\n",
       " Name: value, Length: 54233, dtype: object)"
      ]
     },
     "execution_count": 16,
     "metadata": {},
     "output_type": "execute_result"
    }
   ],
   "source": [
    "X_train, X_test, y_train, y_test"
   ]
  },
  {
   "cell_type": "code",
   "execution_count": 19,
   "id": "9813facb-a064-4bf1-a401-a06b4d3725df",
   "metadata": {},
   "outputs": [],
   "source": [
    "# Set up vectorizer using tfidf\n",
    "tfidf_vectorizer = TfidfVectorizer()\n",
    "X_train_tf = tfidf_vectorizer.fit_transform(X_train)\n",
    "X_test_tf = tfidf_vectorizer.transform(X_test)"
   ]
  },
  {
   "cell_type": "code",
   "execution_count": null,
   "id": "5f96872e-435d-4cb0-a1f5-e9975b0b45cb",
   "metadata": {},
   "outputs": [],
   "source": [
    "# Support vector machine classifier\n",
    "svecm_classifier = SVC()  \n",
    "svecm_classifier.fit(X_train_tf, y_train)\n",
    "\n",
    "# predictions on the test \n",
    "svecm_prediction = svecm_classifier.predict(X_test_tf)"
   ]
  },
  {
   "cell_type": "code",
   "execution_count": null,
   "id": "b077991b-5ac8-42b1-a96d-a71f2c5c0fdd",
   "metadata": {},
   "outputs": [],
   "source": [
    "# Calculate accuracy for SVM then prints\n",
    "svecm_accuracy = accuracy_score(y_test, svecm_prediction)\n",
    "print('Test Accuracy:', svecm_accuracy)"
   ]
  },
  {
   "cell_type": "code",
   "execution_count": null,
   "id": "2e1bb0af-8442-4d26-855b-0792fb1561f2",
   "metadata": {},
   "outputs": [],
   "source": [
    "# neural network model\n",
    "model = Sequential([\n",
    "    Dense(128, activation='relu', input_shape=(X_train_tf.shape[1],)),\n",
    "    Dropout(0.5),\n",
    "    Dense(64, activation='relu'),\n",
    "    Dropout(0.5),\n",
    "    Dense(1, activation='sigmoid')])"
   ]
  },
  {
   "cell_type": "code",
   "execution_count": null,
   "id": "011cfb81-b0ae-4d70-9d39-8c160deccd97",
   "metadata": {},
   "outputs": [],
   "source": [
    "# Compile model\n",
    "model.compile(optimizer=Adam(learning_rate=0.001),\n",
    "              loss='binary_crossentropy',\n",
    "              metrics=['accuracy'])"
   ]
  },
  {
   "cell_type": "code",
   "execution_count": null,
   "id": "9390e79e-6ceb-4c0e-81b0-15fc11e560ec",
   "metadata": {},
   "outputs": [],
   "source": [
    "# Train the model\n",
    "train_info = model.fit(X_train_tf.toarray(), (y_train == 'high value').astype(int), epochs=10, batch_size=32, validation_split=0.2, verbose=1)\n"
   ]
  },
  {
   "cell_type": "code",
   "execution_count": null,
   "id": "53432a63-8112-4921-8678-80dbd9713902",
   "metadata": {},
   "outputs": [],
   "source": [
    "# evaluate test and store in the variables test loss and test accuracy then prints accuracy\n",
    "test_loss, test_accuracy = model.evaluate(X_test_tf.toarray(), (y_test == 'high value').astype(int))\n",
    "\n",
    "print('Test Accuracy:', test_accuracy)"
   ]
  }
 ],
 "metadata": {
  "kernelspec": {
   "display_name": "Python 3 (ipykernel)",
   "language": "python",
   "name": "python3"
  },
  "language_info": {
   "codemirror_mode": {
    "name": "ipython",
    "version": 3
   },
   "file_extension": ".py",
   "mimetype": "text/x-python",
   "name": "python",
   "nbconvert_exporter": "python",
   "pygments_lexer": "ipython3",
   "version": "3.11.7"
  }
 },
 "nbformat": 4,
 "nbformat_minor": 5
}
