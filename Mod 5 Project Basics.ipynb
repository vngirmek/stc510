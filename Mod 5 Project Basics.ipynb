{
 "cells": [
  {
   "cell_type": "code",
   "execution_count": 1,
   "id": "08764396-a0bf-4956-a292-be23bcf10105",
   "metadata": {},
   "outputs": [],
   "source": [
    "import json\n",
    "from nltk import word_tokenize\n",
    "from nltk.corpus import stopwords\n",
    "from nltk.stem import WordNetLemmatizer\n",
    "from sklearn.feature_extraction.text import TfidfVectorizer\n",
    "from sklearn.model_selection import train_test_split\n",
    "from sklearn.naive_bayes import MultinomialNB\n",
    "from sklearn.metrics import accuracy_score\n",
    "import pandas as pd\n",
    "import re\n",
    "\n",
    "english_stopwords = set(stopwords.words('english'))"
   ]
  },
  {
   "cell_type": "code",
   "execution_count": 2,
   "id": "b2b82383-d3c7-4c1e-ac53-464d817ca7b2",
   "metadata": {},
   "outputs": [],
   "source": [
    "def clean_text(text):\n",
    "    # Removes special characters and also convert to lowercase\n",
    "    text = re.sub(r'[^\\w\\s]', '', text.lower())\n",
    "    # Tokenize text\n",
    "    tokens = word_tokenize(text)\n",
    "    # Remove stopwords and lemmatize tokens\n",
    "    lemmatizer = WordNetLemmatizer()\n",
    "    clean_tokens = [lemmatizer.lemmatize(token) for token in tokens if token not in english_stopwords]\n",
    "    # Join the tokens back together\n",
    "    clean_text = ' '.join(clean_tokens)\n",
    "    return clean_text\n"
   ]
  },
  {
   "cell_type": "code",
   "execution_count": 6,
   "id": "47fd216f-85bb-43ba-a7e9-922a0c674cf5",
   "metadata": {},
   "outputs": [],
   "source": [
    "\n",
    "with open('jeopardy.json') as f:\n",
    "    data = json.load(f)\n",
    "\n",
    "\n",
    "questions = []\n",
    "values = []\n",
    "for item in data:\n",
    "    question = item['question']\n",
    "    value = item.get('value', '$0')  # use default value \"$0\" if 'value' key does not exist\n",
    "    if value is not None:\n",
    "        # converts value to integer ;remove '$' sign\n",
    "        value = int(value[1:].replace(',', '')) if value[1:].replace(',', '').isdigit() else 0\n",
    "    else:\n",
    "        value = 0\n",
    "    # Clean the text\n",
    "    clean_question = clean_text(question)\n",
    "    questions.append(clean_question)\n",
    "    # Classify questions as 'high value' or 'low value' based on the points available\n",
    "    values.append('high value' if value >= 800 else 'low value')\n"
   ]
  },
  {
   "cell_type": "code",
   "execution_count": 7,
   "id": "49fe5fd7-2fab-4fbf-abc4-3ab650428baa",
   "metadata": {},
   "outputs": [],
   "source": [
    "# Creates a DataFrame from the cleaned data\n",
    "df = pd.DataFrame({'question': questions, 'value': values})\n",
    "\n"
   ]
  },
  {
   "cell_type": "code",
   "execution_count": 19,
   "id": "b5ecdcd0-735f-4b4d-8664-5dc256ceb267",
   "metadata": {},
   "outputs": [
    {
     "data": {
      "text/html": [
       "<div>\n",
       "<style scoped>\n",
       "    .dataframe tbody tr th:only-of-type {\n",
       "        vertical-align: middle;\n",
       "    }\n",
       "\n",
       "    .dataframe tbody tr th {\n",
       "        vertical-align: top;\n",
       "    }\n",
       "\n",
       "    .dataframe thead th {\n",
       "        text-align: right;\n",
       "    }\n",
       "</style>\n",
       "<table border=\"1\" class=\"dataframe\">\n",
       "  <thead>\n",
       "    <tr style=\"text-align: right;\">\n",
       "      <th></th>\n",
       "      <th>question</th>\n",
       "      <th>value</th>\n",
       "    </tr>\n",
       "  </thead>\n",
       "  <tbody>\n",
       "    <tr>\n",
       "      <th>0</th>\n",
       "      <td>last 8 year life galileo house arrest espousin...</td>\n",
       "      <td>low value</td>\n",
       "    </tr>\n",
       "    <tr>\n",
       "      <th>1</th>\n",
       "      <td>2 1912 olympian football star carlisle indian ...</td>\n",
       "      <td>low value</td>\n",
       "    </tr>\n",
       "    <tr>\n",
       "      <th>2</th>\n",
       "      <td>city yuma state record average 4055 hour sunsh...</td>\n",
       "      <td>low value</td>\n",
       "    </tr>\n",
       "    <tr>\n",
       "      <th>3</th>\n",
       "      <td>1963 live art linkletter show company served b...</td>\n",
       "      <td>low value</td>\n",
       "    </tr>\n",
       "    <tr>\n",
       "      <th>4</th>\n",
       "      <td>signer dec indep framer constitution mass seco...</td>\n",
       "      <td>low value</td>\n",
       "    </tr>\n",
       "    <tr>\n",
       "      <th>...</th>\n",
       "      <td>...</td>\n",
       "      <td>...</td>\n",
       "    </tr>\n",
       "    <tr>\n",
       "      <th>216925</th>\n",
       "      <td>puccini opera turn solution 3 riddle posed her...</td>\n",
       "      <td>high value</td>\n",
       "    </tr>\n",
       "    <tr>\n",
       "      <th>216926</th>\n",
       "      <td>north america term properly applied 4 specie c...</td>\n",
       "      <td>high value</td>\n",
       "    </tr>\n",
       "    <tr>\n",
       "      <th>216927</th>\n",
       "      <td>penny lane hellraiser grew barber shave anothe...</td>\n",
       "      <td>high value</td>\n",
       "    </tr>\n",
       "    <tr>\n",
       "      <th>216928</th>\n",
       "      <td>ft sill okla made plea arizona land home fathe...</td>\n",
       "      <td>high value</td>\n",
       "    </tr>\n",
       "    <tr>\n",
       "      <th>216929</th>\n",
       "      <td>silent movie title includes last name 18th c s...</td>\n",
       "      <td>low value</td>\n",
       "    </tr>\n",
       "  </tbody>\n",
       "</table>\n",
       "<p>216930 rows × 2 columns</p>\n",
       "</div>"
      ],
      "text/plain": [
       "                                                 question       value\n",
       "0       last 8 year life galileo house arrest espousin...   low value\n",
       "1       2 1912 olympian football star carlisle indian ...   low value\n",
       "2       city yuma state record average 4055 hour sunsh...   low value\n",
       "3       1963 live art linkletter show company served b...   low value\n",
       "4       signer dec indep framer constitution mass seco...   low value\n",
       "...                                                   ...         ...\n",
       "216925  puccini opera turn solution 3 riddle posed her...  high value\n",
       "216926  north america term properly applied 4 specie c...  high value\n",
       "216927  penny lane hellraiser grew barber shave anothe...  high value\n",
       "216928  ft sill okla made plea arizona land home fathe...  high value\n",
       "216929  silent movie title includes last name 18th c s...   low value\n",
       "\n",
       "[216930 rows x 2 columns]"
      ]
     },
     "execution_count": 19,
     "metadata": {},
     "output_type": "execute_result"
    }
   ],
   "source": [
    "df"
   ]
  },
  {
   "cell_type": "code",
   "execution_count": 8,
   "id": "2d90eabe-31ce-44a5-99e2-7f3b684497fa",
   "metadata": {},
   "outputs": [],
   "source": [
    "# Split the data set\n",
    "X_train, X_test, y_train, y_test = train_test_split(df['question'], df['value'], random_state=1)"
   ]
  },
  {
   "cell_type": "code",
   "execution_count": 16,
   "id": "03bfca87-5f4d-4ee6-873d-897d58776ae6",
   "metadata": {},
   "outputs": [],
   "source": [
    "# Set up vectorizer using tfidf\n",
    "tfidf_vectorizer = TfidfVectorizer()\n",
    "X = tfidf_vectorizer.fit_transform(questions)\n",
    "y = values\n"
   ]
  },
  {
   "cell_type": "code",
   "execution_count": 17,
   "id": "d9cd2699-92bf-490f-aa5f-eba4b895b63e",
   "metadata": {},
   "outputs": [],
   "source": [
    "# Train a Naive Bayesian classifier\n",
    "naive_bayes = MultinomialNB()\n",
    "naive_bayes.fit(X_train_tf, y_train)\n",
    "# predictions on the test set\n",
    "predictions = naive_bayes.predict(X_test_tf)\n"
   ]
  },
  {
   "cell_type": "raw",
   "id": "27ab9603-7005-40c7-a4a3-680b5c83aed0",
   "metadata": {},
   "source": [
    "predictions"
   ]
  },
  {
   "cell_type": "code",
   "execution_count": 18,
   "id": "7924e7b6-f830-4b4a-b779-65900a069957",
   "metadata": {},
   "outputs": [
    {
     "name": "stdout",
     "output_type": "stream",
     "text": [
      "Accuracy: 0.5854737890214445\n"
     ]
    }
   ],
   "source": [
    "# Calculating accuracy\n",
    "accuracy = accuracy_score(y_test, predictions)\n",
    "print('Accuracy:', accuracy)"
   ]
  }
 ],
 "metadata": {
  "kernelspec": {
   "display_name": "Python 3 (ipykernel)",
   "language": "python",
   "name": "python3"
  },
  "language_info": {
   "codemirror_mode": {
    "name": "ipython",
    "version": 3
   },
   "file_extension": ".py",
   "mimetype": "text/x-python",
   "name": "python",
   "nbconvert_exporter": "python",
   "pygments_lexer": "ipython3",
   "version": "3.11.7"
  }
 },
 "nbformat": 4,
 "nbformat_minor": 5
}
